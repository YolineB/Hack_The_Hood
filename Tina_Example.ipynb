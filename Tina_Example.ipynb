{
  "nbformat": 4,
  "nbformat_minor": 0,
  "metadata": {
    "colab": {
      "provenance": [],
      "authorship_tag": "ABX9TyPY4b4FUwPfld/6Z3jqYWUc",
      "include_colab_link": true
    },
    "kernelspec": {
      "name": "python3",
      "display_name": "Python 3"
    },
    "language_info": {
      "name": "python"
    }
  },
  "cells": [
    {
      "cell_type": "markdown",
      "metadata": {
        "id": "view-in-github",
        "colab_type": "text"
      },
      "source": [
        "<a href=\"https://colab.research.google.com/github/YolineB/Hack_the_Hood/blob/main/Tina_Example.ipynb\" target=\"_parent\"><img src=\"https://colab.research.google.com/assets/colab-badge.svg\" alt=\"Open In Colab\"/></a>"
      ]
    },
    {
      "cell_type": "code",
      "execution_count": null,
      "metadata": {
        "id": "GzjoXlvCbHwt"
      },
      "outputs": [],
      "source": [
        "## Record of tiger team class, using Tina (https://hourofpython.trinket.io/a-visual-introduction-to-python#/turtles/color)\n",
        "\n",
        "import turtle\n",
        "tina = turtle.Turtle()\n",
        "tina.shape('turtle')\n",
        "\n",
        "# Name your turtle\n",
        "# Have our turtle move more steps backwards\n",
        "# Have our turtle say something else\n",
        "\n",
        "\n",
        "\n",
        "tina.penup()\n",
        "tina.forward(20)\n",
        "tina. write( \"Why, hello there!\")\n",
        "tina. backward (20)\n",
        "\n",
        "\n",
        "#MOVING\n",
        "\n",
        "import turtle\n",
        "tina = turtle.Turtle()\n",
        "tina.shape(\"turtle\")\n",
        "# To do: complete turtle's square\n",
        "# Tina should be back at square one\n",
        "#just once please\n",
        "# rotate 90 degrees\n",
        "# to match, go forward\n",
        "\n",
        "#I need to\n",
        "\n",
        "tina.forward(50)\n",
        "tina.left(90)\n",
        "tina.forward(50)\n",
        "tina.left(90)\n",
        "tina.forward(50)\n",
        "tina.left(90)\n",
        "tina.forward(50)\n",
        "\n",
        "\n",
        "import turtle\n",
        "tina = turtle.Turtle()\n",
        "tina.shape('turtle')\n",
        "\n",
        "#Add another color\n",
        "# Have your turtle add that color\n",
        "# Have your turtle go all the way back and say something\n",
        "\n",
        "tina.left(90)\n",
        "tina.forward(20)\n",
        "tina.write(\"What color am I now?\")\n",
        "\n",
        "tina.forward(20)\n",
        "tina.color(\"blue\")\n",
        "tina.write(\"What color am I now?\")\n",
        "\n",
        "tina.forward(20)\n",
        "tina.color(\"purple\")\n",
        "tina.write(\"What color am I now?\")\n",
        "\n",
        "tina.forward(20)\n",
        "tina.color(\"orange\")\n",
        "tina.write(\"What color am I now?\")\n",
        "\n",
        "tina.right(180)\n",
        "tina.forward(100)\n",
        "tina.right(\"    Where am I?\")\n",
        "\n",
        "tina.forward(20)\n",
        "tina.color(\"green\")\n",
        "tina.write(\"What color am I now?\")\n",
        "\n",
        "\n"
      ]
    }
  ]
}