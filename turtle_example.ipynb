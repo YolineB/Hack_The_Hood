{
  "nbformat": 4,
  "nbformat_minor": 0,
  "metadata": {
    "colab": {
      "provenance": [],
      "authorship_tag": "ABX9TyN/XaI2FWcLYHCxdQLVMg3q",
      "include_colab_link": true
    },
    "kernelspec": {
      "name": "python3",
      "display_name": "Python 3"
    },
    "language_info": {
      "name": "python"
    }
  },
  "cells": [
    {
      "cell_type": "markdown",
      "metadata": {
        "id": "view-in-github",
        "colab_type": "text"
      },
      "source": [
        "<a href=\"https://colab.research.google.com/github/YolineB/Hack_the_Hood/blob/main/turtle_example.ipynb\" target=\"_parent\"><img src=\"https://colab.research.google.com/assets/colab-badge.svg\" alt=\"Open In Colab\"/></a>"
      ]
    },
    {
      "cell_type": "code",
      "execution_count": null,
      "metadata": {
        "id": "6ps4McJYvG7Q"
      },
      "outputs": [],
      "source": [
        "import turtle\n",
        "dog = turtle.Turtle()\n",
        "dog.shape('turtle')\n",
        "\n",
        "#Today I worked on moving turtle, renaming, and using strings\n",
        "#https://hourofpython.trinket.io/a-visual-introduction-to-python#/turtles/meet-tina\n",
        "\n",
        "# Move our turle a little further\n",
        "# Let's have turtle move further back\n",
        "# say something\n",
        "# >> \"I don't know\"\n",
        "dog.penup()\n",
        "#let's change a number\n",
        "dog.forward(100)\n",
        "dog.write(\"I don't know\")\n",
        "dog.backward(100)\n",
        "dog.write(\"I have no idea\")"
      ]
    }
  ]
}